{
 "cells": [
  {
   "cell_type": "code",
   "execution_count": null,
   "metadata": {},
   "outputs": [],
   "source": [
    "import numpy as np\n",
    "import cv2\n",
    "import matplotlib\n",
    "import matplotlib.pyplot as plt\n",
    "from IPython.core.pylabtools import figsize\n",
    "figsize(40, 20)\n",
    "\n",
    "\n",
    "%matplotlib inline\n",
    "\n",
    "cv = cv2\n",
    "WINDOW_NAME = 'Image de Lena'"
   ]
  },
  {
   "cell_type": "code",
   "execution_count": null,
   "metadata": {},
   "outputs": [],
   "source": [
    "IMAGE = '/Users/avishayz/workspace/setsolver/corpus/b_cir.jpg'\n"
   ]
  },
  {
   "cell_type": "code",
   "execution_count": null,
   "metadata": {},
   "outputs": [],
   "source": [
    "img = image = cv2.imread(IMAGE)"
   ]
  },
  {
   "cell_type": "code",
   "execution_count": null,
   "metadata": {},
   "outputs": [],
   "source": [
    "im = img = image = cv2.imread(IMAGE)\n",
    "\n",
    "def rectify(h):\n",
    "    h = h.reshape((4,2))\n",
    "    hnew = np.zeros((4,2),dtype = np.float32)\n",
    "\n",
    "    add = h.sum(1)\n",
    "    hnew[0] = h[np.argmin(add)]\n",
    "    hnew[2] = h[np.argmax(add)]\n",
    "\n",
    "    diff = np.diff(h,axis = 1)\n",
    "    hnew[1] = h[np.argmin(diff)]\n",
    "    hnew[3] = h[np.argmax(diff)]\n",
    "\n",
    "    return hnew\n",
    "\n",
    "def getCards(im, numcards=9):\n",
    "    gray = cv2.cvtColor(im,cv2.COLOR_BGR2GRAY)\n",
    "    blur = cv2.GaussianBlur(gray,(1,1),1000)\n",
    "    flag, thresh = cv2.threshold(blur, 0, 255, cv2.THRESH_BINARY ) \n",
    "\n",
    "    _, contours, hierarchy = cv2.findContours(thresh, cv2.RETR_TREE, cv2.CHAIN_APPROX_SIMPLE)\n",
    "\n",
    "    contours = sorted(contours, key=cv2.contourArea, reverse=True)[:numcards]  \n",
    "\n",
    "    for card in contours:\n",
    "        peri = cv2.arcLength(card, True)\n",
    "        approx = rectify(cv2.approxPolyDP(card, 0.02 * peri,True))     \n",
    "\n",
    "        h = np.array([ [0,0],[285,0],[285,449],[0,449] ],np.float32)\n",
    "\n",
    "        transform = cv2.getPerspectiveTransform(approx,h)\n",
    "        warp = cv2.warpPerspective(im,transform,(285,450))\n",
    "\n",
    "        yield warp\n",
    "res = list(getCards(im))\n",
    "plot(*res)"
   ]
  },
  {
   "cell_type": "code",
   "execution_count": null,
   "metadata": {},
   "outputs": [],
   "source": [
    "plot(color_transfer(res[1], 200), res[1])"
   ]
  },
  {
   "cell_type": "code",
   "execution_count": null,
   "metadata": {},
   "outputs": [],
   "source": [
    "def color_transfer(src, h=100):\n",
    "    x = src.copy()\n",
    "    mean = x.mean(0).mean(0)\n",
    "    x += (h - mean).astype('uint8')\n",
    "    return x"
   ]
  },
  {
   "cell_type": "code",
   "execution_count": null,
   "metadata": {},
   "outputs": [],
   "source": [
    "def plot(*images):\n",
    "    for i, img in enumerate(images):\n",
    "        plt.subplot(121 + i)\n",
    "        plt.imshow(img)\n",
    "        plt.xticks([]), plt.yticks([])\n",
    "        \n",
    "#     mng = plt.get_current_fig_manager()\n",
    "#     mng.resize(*mng.window.maxsize())\n",
    "\n",
    "    plt.show()\n",
    "    \n",
    "def my_imshow(img):\n",
    "    cv2.namedWindow(WINDOW_NAME, cv2.WND_PROP_AUTOSIZE)\n",
    "    cv2.resizeWindow(WINDOW_NAME, 500,500);\n",
    "    cv2.startWindowThread()\n",
    "    \n",
    "    # Display an image\n",
    "    cv2.imshow(WINDOW_NAME, img)\n",
    "    cv2.resizeWindow(WINDOW_NAME, 600,600)\n",
    "\n",
    "    cv2.waitKey(0)\n",
    "    cv2.destroyAllWindows()\n",
    "    cv2.waitKey(1)\n",
    "    cv2.destroyAllWindows()\n",
    "    \n",
    "def rotateImage(image, angle):\n",
    "    image_center = tuple(np.array(image.shape)/2)\n",
    "    rot_mat = cv2.getRotationMatrix2D(image_center,angle,1.0)\n",
    "    result = cv2.warpAffine(image, rot_mat, image.shape,flags=cv2.INTER_LINEAR)\n",
    "    return result"
   ]
  },
  {
   "cell_type": "code",
   "execution_count": null,
   "metadata": {},
   "outputs": [],
   "source": []
  }
 ],
 "metadata": {
  "kernelspec": {
   "display_name": "Python 2",
   "language": "python",
   "name": "python2"
  },
  "language_info": {
   "codemirror_mode": {
    "name": "ipython",
    "version": 2
   },
   "file_extension": ".py",
   "mimetype": "text/x-python",
   "name": "python",
   "nbconvert_exporter": "python",
   "pygments_lexer": "ipython2",
   "version": "2.7.13"
  }
 },
 "nbformat": 4,
 "nbformat_minor": 2
}
